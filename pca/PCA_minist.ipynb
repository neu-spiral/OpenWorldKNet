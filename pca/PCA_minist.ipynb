{
 "cells": [
  {
   "cell_type": "code",
   "execution_count": 1,
   "metadata": {},
   "outputs": [
    {
     "name": "stderr",
     "output_type": "stream",
     "text": [
      "Using TensorFlow backend.\n"
     ]
    }
   ],
   "source": [
    "from __future__ import print_function\n",
    "\n",
    "import argparse\n",
    "import pickle\n",
    "import numpy as np\n",
    "from sklearn import cluster, metrics\n",
    "\n",
    "import os\n",
    "from sklearn.preprocessing import StandardScaler\n",
    "from sklearn.decomposition import PCA\n",
    "import keras\n",
    "from keras.datasets import mnist\n",
    "import matplotlib.pyplot as plt\n",
    "from time import time\n",
    "from scipy.stats import mode\n"
   ]
  },
  {
   "cell_type": "code",
   "execution_count": 2,
   "metadata": {},
   "outputs": [],
   "source": [
    "start = time()\n",
    "NUM_CLASSES, IMG_ROWS, IMG_COLS = 10, 28, 28\n",
    "new_classes = [5,6,7,8,9]\n",
    "old_classes = list(x for x in range(NUM_CLASSES) if x not in new_classes)"
   ]
  },
  {
   "cell_type": "code",
   "execution_count": 3,
   "metadata": {},
   "outputs": [],
   "source": [
    "def get_data_by_label(data, target, labels=range(NUM_CLASSES)):\n",
    "    \"\"\"\n",
    "    Extract data according to a list of labels\n",
    "    data = x_train\n",
    "    target = y_train (not one_hot)\n",
    "    labels = [0, 1]\n",
    "    \"\"\"\n",
    "    if type(labels) is int:\n",
    "        labels = [labels]\n",
    "    position = []\n",
    "    for label in labels:\n",
    "        position_part = np.where(target == label)[0] # That is because np.where returns a tuple\n",
    "        position.extend(position_part)\n",
    "    data_part = data[position]\n",
    "    target_part = target[position]\n",
    "    return data_part, target_part"
   ]
  },
  {
   "cell_type": "code",
   "execution_count": 4,
   "metadata": {},
   "outputs": [],
   "source": [
    "def cluster_accuracy(y_true, y_predict):\n",
    "    # we assume the cluster labels are determined by its majority class inside\n",
    "    # print(y_true.shape)\n",
    "    # print(y_predict.shape)\n",
    "    pseudo_classes = np.unique(y_predict)\n",
    "    y_relabel = np.zeros_like(y_predict)\n",
    "    for p_class in pseudo_classes:\n",
    "        true_corresponding_classes = y_true[y_predict==p_class]\n",
    "        majority = mode(true_corresponding_classes)[0]\n",
    "        y_relabel[y_predict==p_class] = majority\n",
    "    acc = np.sum(y_relabel == y_true) / float(len(y_true))\n",
    "    return acc"
   ]
  },
  {
   "cell_type": "code",
   "execution_count": 5,
   "metadata": {},
   "outputs": [
    {
     "name": "stdout",
     "output_type": "stream",
     "text": [
      "(70000, 28, 28) (70000,)\n",
      "The sample size after reshaping is: (70000, 784)\n",
      "********Scaling dataset***********\n"
     ]
    }
   ],
   "source": [
    "(x_train, y_train), (x_test, y_test) = mnist.load_data()\n",
    "\n",
    "x_all = np.concatenate((x_train, x_test))\n",
    "y_all = np.concatenate((y_train, y_test))\n",
    "print(x_all.shape,y_all.shape)\n",
    "x_all = x_all.astype(float)\n",
    "sample_size = len(x_all)\n",
    "\n",
    "\n",
    "x_all_2D = x_all.reshape(sample_size,-1)\n",
    "print('The sample size after reshaping is:',x_all_2D.shape)\n",
    "print('********Scaling dataset***********') \n",
    "scaler = StandardScaler()\n",
    "scaler.fit(x_all_2D)\n",
    "x_all_2D = scaler.transform(x_all_2D)\n"
   ]
  },
  {
   "cell_type": "code",
   "execution_count": 6,
   "metadata": {},
   "outputs": [
    {
     "name": "stdout",
     "output_type": "stream",
     "text": [
      "[0 0 0 ... 4 4 4]\n"
     ]
    }
   ],
   "source": [
    "x_old, y_old = get_data_by_label(x_all_2D,y_all,labels=old_classes)\n",
    "x_new, y_new = get_data_by_label(x_all_2D,y_all,labels=new_classes)\n",
    "print(y_old)"
   ]
  },
  {
   "cell_type": "code",
   "execution_count": 7,
   "metadata": {},
   "outputs": [
    {
     "name": "stdout",
     "output_type": "stream",
     "text": [
      "********PCA Part***********\n",
      "saved variance 0.8633059424015234\n"
     ]
    },
    {
     "data": {
      "image/png": "[encoded data removed]",
      "text/plain": [
       "<Figure size 432x288 with 1 Axes>"
      ]
     },
     "metadata": {
      "needs_background": "light"
     },
     "output_type": "display_data"
    }
   ],
   "source": [
    "print('********PCA Part***********')\n",
    "totoal_number_of_features = 28*28\n",
    "number_of_feature_framewrok = 128+32\n",
    "\n",
    "pca = PCA(n_components=number_of_feature_framewrok)\n",
    "pca.fit(x_old)\n",
    "Culumative_EVR = np.cumsum(pca.explained_variance_ratio_)\n",
    "plt.plot(Culumative_EVR)\n",
    "plt.plot(132, Culumative_EVR[132], 'ro')\n",
    "plt.xlabel('Number of components')\n",
    "plt.ylabel('Cumulative explained variance')\n",
    "print(\"saved variance\",Culumative_EVR[132])"
   ]
  },
  {
   "cell_type": "code",
   "execution_count": 8,
   "metadata": {},
   "outputs": [],
   "source": [
    "x_old_pca = pca.transform(x_old)\n",
    "x_new_pca = pca.transform(x_new)"
   ]
  },
  {
   "cell_type": "code",
   "execution_count": 9,
   "metadata": {},
   "outputs": [
    {
     "name": "stdout",
     "output_type": "stream",
     "text": [
      "0.5762439807383628 0.37898795153606885 0.459252532908446 0.45933104840385675 0.47766305760911837\n",
      "Executaion time 37.2460970879\n"
     ]
    }
   ],
   "source": [
    "kmeans = cluster.KMeans(n_clusters=5, random_state=0).fit(x_new_pca)\n",
    "label_cluster = kmeans.labels_\n",
    "y_true = y_new\n",
    "y_cluster = label_cluster\n",
    "\n",
    "acc = cluster_accuracy(y_true, y_cluster)\n",
    "ARI = metrics.adjusted_rand_score(y_true, y_cluster)\n",
    "NMI = metrics.adjusted_mutual_info_score(y_true, y_cluster)\n",
    "HS = metrics.homogeneity_score(y_true, y_cluster)\n",
    "VM = metrics.v_measure_score(y_true, y_cluster)\n",
    "\n",
    "print(acc,ARI,NMI,HS,VM)\n",
    "end = time()\n",
    "print(\"Executaion time\",end-start)"
   ]
  }
 ],
 "metadata": {
  "kernelspec": {
   "display_name": "Python 2",
   "language": "python",
   "name": "python2"
  },
  "language_info": {
   "codemirror_mode": {
    "name": "ipython",
    "version": 2
   },
   "file_extension": ".py",
   "mimetype": "text/x-python",
   "name": "python",
   "nbconvert_exporter": "python",
   "pygments_lexer": "ipython2",
   "version": "2.7.16"
  }
 },
 "nbformat": 4,
 "nbformat_minor": 2
}
